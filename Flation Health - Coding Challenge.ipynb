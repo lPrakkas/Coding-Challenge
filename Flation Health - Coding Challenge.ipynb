{
 "cells": [
  {
   "cell_type": "code",
   "execution_count": 1,
   "metadata": {
    "collapsed": false
   },
   "outputs": [],
   "source": [
    "# Flatiron Health - Short Exercise\n",
    "\n",
    "# Using SQLite with the pandasql library in Python\n",
    "\n",
    "import pandas as pd\n",
    "import pandasql as ps\n",
    "from pandasql import sqldf\n",
    "\n",
    "diagnosis = pd.read_csv(\"Patient_Diagnosis.csv\")\n",
    "treatment = pd.read_csv(\"Patient_Treatment.csv\")"
   ]
  },
  {
   "cell_type": "code",
   "execution_count": 2,
   "metadata": {
    "collapsed": false
   },
   "outputs": [
    {
     "data": {
      "text/plain": [
       "0     1/21/10\n",
       "1      1/9/10\n",
       "2     2/17/10\n",
       "3     6/13/10\n",
       "4    12/15/10\n",
       "Name: Diagnosis_Date, dtype: object"
      ]
     },
     "execution_count": 2,
     "metadata": {},
     "output_type": "execute_result"
    }
   ],
   "source": [
    "# Checking the formatting of the date in the Patient_Diagnosis dataset and converting it to a YYYY-MM-DD format\n",
    "\n",
    "diagnosis['Diagnosis_Date'].head()"
   ]
  },
  {
   "cell_type": "code",
   "execution_count": 3,
   "metadata": {
    "collapsed": false
   },
   "outputs": [
    {
     "data": {
      "text/plain": [
       "0   2010-01-21\n",
       "1   2010-01-09\n",
       "2   2010-02-17\n",
       "3   2010-06-13\n",
       "4   2010-12-15\n",
       "Name: formatted_diagnosis_date, dtype: datetime64[ns]"
      ]
     },
     "execution_count": 3,
     "metadata": {},
     "output_type": "execute_result"
    }
   ],
   "source": [
    "from datetime import datetime\n",
    "diagnosis['formatted_diagnosis_date']=pd.to_datetime(diagnosis['Diagnosis_Date'])\n",
    "diagnosis['formatted_diagnosis_date'].head()"
   ]
  },
  {
   "cell_type": "code",
   "execution_count": 4,
   "metadata": {
    "collapsed": true
   },
   "outputs": [],
   "source": [
    "# Same operation in the Patient_Treatment dataset\n",
    "treatment['formatted_treatment_date']=pd.to_datetime(treatment['Treatment_Date'])"
   ]
  },
  {
   "cell_type": "code",
   "execution_count": 5,
   "metadata": {
    "collapsed": false
   },
   "outputs": [
    {
     "data": {
      "text/html": [
       "<div>\n",
       "<table border=\"1\" class=\"dataframe\">\n",
       "  <thead>\n",
       "    <tr style=\"text-align: right;\">\n",
       "      <th></th>\n",
       "      <th>Cancer Type</th>\n",
       "      <th># of Patients</th>\n",
       "    </tr>\n",
       "  </thead>\n",
       "  <tbody>\n",
       "    <tr>\n",
       "      <th>0</th>\n",
       "      <td>Breast Cancer</td>\n",
       "      <td>30</td>\n",
       "    </tr>\n",
       "    <tr>\n",
       "      <th>1</th>\n",
       "      <td>Colon Cancer</td>\n",
       "      <td>12</td>\n",
       "    </tr>\n",
       "  </tbody>\n",
       "</table>\n",
       "</div>"
      ],
      "text/plain": [
       "     Cancer Type  # of Patients\n",
       "0  Breast Cancer             30\n",
       "1   Colon Cancer             12"
      ]
     },
     "execution_count": 5,
     "metadata": {},
     "output_type": "execute_result"
    }
   ],
   "source": [
    "# Question 1 : How many patients does the clinic have for each cancer type?\n",
    "\n",
    "# Number of patients by cancer type\n",
    "\n",
    "q1 = ''' SELECT diagnosis AS \"Cancer Type\", Count(distinct(Patient_ID)) AS \"# of Patients\"\n",
    "        FROM diagnosis \n",
    "        GROUP BY diagnosis\n",
    "        ; '''\n",
    "sqldf(q1, locals())"
   ]
  },
  {
   "cell_type": "code",
   "execution_count": 6,
   "metadata": {
    "collapsed": false
   },
   "outputs": [
    {
     "data": {
      "text/html": [
       "<div>\n",
       "<table border=\"1\" class=\"dataframe\">\n",
       "  <thead>\n",
       "    <tr style=\"text-align: right;\">\n",
       "      <th></th>\n",
       "      <th># of Patients</th>\n",
       "    </tr>\n",
       "  </thead>\n",
       "  <tbody>\n",
       "    <tr>\n",
       "      <th>0</th>\n",
       "      <td>37</td>\n",
       "    </tr>\n",
       "  </tbody>\n",
       "</table>\n",
       "</div>"
      ],
      "text/plain": [
       "   # of Patients\n",
       "0             37"
      ]
     },
     "execution_count": 6,
     "metadata": {},
     "output_type": "execute_result"
    }
   ],
   "source": [
    "# Checking the total number of patients\n",
    "\n",
    "q2 = ''' SELECT COUNT(DISTINCT (diagnosis.Patient_ID)) AS \"# of Patients\"\n",
    "         FROM diagnosis\n",
    "         \n",
    "         '''\n",
    "sqldf(q2, locals())"
   ]
  },
  {
   "cell_type": "code",
   "execution_count": 7,
   "metadata": {
    "collapsed": false
   },
   "outputs": [
    {
     "data": {
      "text/html": [
       "<div>\n",
       "<table border=\"1\" class=\"dataframe\">\n",
       "  <thead>\n",
       "    <tr style=\"text-align: right;\">\n",
       "      <th></th>\n",
       "      <th>Patient_ID</th>\n",
       "      <th># of Diagnosis</th>\n",
       "    </tr>\n",
       "  </thead>\n",
       "  <tbody>\n",
       "    <tr>\n",
       "      <th>0</th>\n",
       "      <td>3757</td>\n",
       "      <td>2</td>\n",
       "    </tr>\n",
       "    <tr>\n",
       "      <th>1</th>\n",
       "      <td>6877</td>\n",
       "      <td>2</td>\n",
       "    </tr>\n",
       "    <tr>\n",
       "      <th>2</th>\n",
       "      <td>6889</td>\n",
       "      <td>2</td>\n",
       "    </tr>\n",
       "    <tr>\n",
       "      <th>3</th>\n",
       "      <td>6922</td>\n",
       "      <td>2</td>\n",
       "    </tr>\n",
       "    <tr>\n",
       "      <th>4</th>\n",
       "      <td>7230</td>\n",
       "      <td>2</td>\n",
       "    </tr>\n",
       "  </tbody>\n",
       "</table>\n",
       "</div>"
      ],
      "text/plain": [
       "   Patient_ID  # of Diagnosis\n",
       "0        3757               2\n",
       "1        6877               2\n",
       "2        6889               2\n",
       "3        6922               2\n",
       "4        7230               2"
      ]
     },
     "execution_count": 7,
     "metadata": {},
     "output_type": "execute_result"
    }
   ],
   "source": [
    "# Checking the number of patients treated for multiple cancers\n",
    "\n",
    "q3 = ''' SELECT diagnosis.Patient_ID, Count(distinct(diagnosis)) AS \"# of Diagnosis\"\n",
    "        FROM diagnosis \n",
    "        group by patient_ID\n",
    "        HAVING Count(distinct(diagnosis))>1\n",
    "        \n",
    "         '''\n",
    "sqldf(q3, locals())\n"
   ]
  },
  {
   "cell_type": "code",
   "execution_count": 8,
   "metadata": {
    "collapsed": true
   },
   "outputs": [],
   "source": [
    "# 5 out of 37, so 14% of the patients are treated for 2 cancers. "
   ]
  },
  {
   "cell_type": "code",
   "execution_count": 9,
   "metadata": {
    "collapsed": false
   },
   "outputs": [
    {
     "data": {
      "text/html": [
       "<div>\n",
       "<table border=\"1\" class=\"dataframe\">\n",
       "  <thead>\n",
       "    <tr style=\"text-align: right;\">\n",
       "      <th></th>\n",
       "      <th>Patient_ID</th>\n",
       "      <th>formatted_diagnosis_date</th>\n",
       "      <th>min(formatted_treatment_date)</th>\n",
       "      <th># of days before treatment</th>\n",
       "    </tr>\n",
       "  </thead>\n",
       "  <tbody>\n",
       "    <tr>\n",
       "      <th>0</th>\n",
       "      <td>2038</td>\n",
       "      <td>2010-01-21 00:00:00.000000</td>\n",
       "      <td>2010-01-24 00:00:00.000000</td>\n",
       "      <td>3.0</td>\n",
       "    </tr>\n",
       "    <tr>\n",
       "      <th>1</th>\n",
       "      <td>2120</td>\n",
       "      <td>2010-01-09 00:00:00.000000</td>\n",
       "      <td>2010-01-24 00:00:00.000000</td>\n",
       "      <td>15.0</td>\n",
       "    </tr>\n",
       "    <tr>\n",
       "      <th>2</th>\n",
       "      <td>2175</td>\n",
       "      <td>2010-02-17 00:00:00.000000</td>\n",
       "      <td>2010-02-21 00:00:00.000000</td>\n",
       "      <td>4.0</td>\n",
       "    </tr>\n",
       "    <tr>\n",
       "      <th>3</th>\n",
       "      <td>2407</td>\n",
       "      <td>2010-06-13 00:00:00.000000</td>\n",
       "      <td>2010-06-19 00:00:00.000000</td>\n",
       "      <td>6.0</td>\n",
       "    </tr>\n",
       "    <tr>\n",
       "      <th>4</th>\n",
       "      <td>2425</td>\n",
       "      <td>2010-12-15 00:00:00.000000</td>\n",
       "      <td>2010-12-19 00:00:00.000000</td>\n",
       "      <td>4.0</td>\n",
       "    </tr>\n",
       "  </tbody>\n",
       "</table>\n",
       "</div>"
      ],
      "text/plain": [
       "   Patient_ID    formatted_diagnosis_date min(formatted_treatment_date)  \\\n",
       "0        2038  2010-01-21 00:00:00.000000    2010-01-24 00:00:00.000000   \n",
       "1        2120  2010-01-09 00:00:00.000000    2010-01-24 00:00:00.000000   \n",
       "2        2175  2010-02-17 00:00:00.000000    2010-02-21 00:00:00.000000   \n",
       "3        2407  2010-06-13 00:00:00.000000    2010-06-19 00:00:00.000000   \n",
       "4        2425  2010-12-15 00:00:00.000000    2010-12-19 00:00:00.000000   \n",
       "\n",
       "   # of days before treatment  \n",
       "0                         3.0  \n",
       "1                        15.0  \n",
       "2                         4.0  \n",
       "3                         6.0  \n",
       "4                         4.0  "
      ]
     },
     "execution_count": 9,
     "metadata": {},
     "output_type": "execute_result"
    }
   ],
   "source": [
    "# Question 2: How long after being diagnosed do patients start treatment?\n",
    "\n",
    "# Calculating the number of days between the diagnosis date and start of the treatment\n",
    "\n",
    "q4 = '''SELECT diagnosis.Patient_ID, formatted_diagnosis_date,min(formatted_treatment_date),\n",
    "julianday(min(formatted_treatment_date))-julianday(formatted_diagnosis_date) AS \"# of days before treatment\"\n",
    "FROM diagnosis \n",
    "JOIN treatment ON treatment.Patient_ID = diagnosis.Patient_ID\n",
    "GROUP BY diagnosis.Patient_ID, Diagnosis_Date\n",
    " '''\n",
    "\n",
    "sqldf(q4, locals()).head()"
   ]
  },
  {
   "cell_type": "code",
   "execution_count": 10,
   "metadata": {
    "collapsed": false
   },
   "outputs": [
    {
     "data": {
      "text/html": [
       "<div>\n",
       "<table border=\"1\" class=\"dataframe\">\n",
       "  <thead>\n",
       "    <tr style=\"text-align: right;\">\n",
       "      <th></th>\n",
       "      <th>Patient_ID</th>\n",
       "      <th>Drug_Code</th>\n",
       "      <th>formatted_diagnosis_date</th>\n",
       "      <th>min(formatted_treatment_date)</th>\n",
       "      <th># of days before treatment</th>\n",
       "    </tr>\n",
       "  </thead>\n",
       "  <tbody>\n",
       "    <tr>\n",
       "      <th>0</th>\n",
       "      <td>6877</td>\n",
       "      <td>C</td>\n",
       "      <td>2012-12-09 00:00:00.000000</td>\n",
       "      <td>2012-12-03 00:00:00.000000</td>\n",
       "      <td>-6.0</td>\n",
       "    </tr>\n",
       "  </tbody>\n",
       "</table>\n",
       "</div>"
      ],
      "text/plain": [
       "   Patient_ID Drug_Code    formatted_diagnosis_date  \\\n",
       "0        6877         C  2012-12-09 00:00:00.000000   \n",
       "\n",
       "  min(formatted_treatment_date)  # of days before treatment  \n",
       "0    2012-12-03 00:00:00.000000                        -6.0  "
      ]
     },
     "execution_count": 10,
     "metadata": {},
     "output_type": "execute_result"
    }
   ],
   "source": [
    "# Checking how many patients started a treatment before being dignosed for a cancer type \n",
    "# (since we have patients with multiple cancers)\n",
    "\n",
    "q5 = '''SELECT diagnosis.Patient_ID, drug_code,formatted_diagnosis_date,min(formatted_treatment_date),\n",
    "julianday(min(formatted_treatment_date))-julianday(formatted_diagnosis_date) AS \"# of days before treatment\" \n",
    "FROM diagnosis \n",
    "JOIN treatment ON treatment.Patient_ID = diagnosis.Patient_ID\n",
    "GROUP BY diagnosis.Patient_ID, Diagnosis_Date\n",
    "having (julianday(min(formatted_treatment_date))-julianday(formatted_diagnosis_date))<0\n",
    " '''\n",
    "\n",
    "sqldf(q5, locals())"
   ]
  },
  {
   "cell_type": "code",
   "execution_count": 11,
   "metadata": {
    "collapsed": false
   },
   "outputs": [
    {
     "data": {
      "text/html": [
       "<div>\n",
       "<table border=\"1\" class=\"dataframe\">\n",
       "  <thead>\n",
       "    <tr style=\"text-align: right;\">\n",
       "      <th></th>\n",
       "      <th>Patient_ID</th>\n",
       "      <th>Diagnosis</th>\n",
       "      <th>Drug_Code</th>\n",
       "      <th>formatted_diagnosis_date</th>\n",
       "      <th>min(formatted_treatment_date)</th>\n",
       "      <th># of days before treatment</th>\n",
       "    </tr>\n",
       "  </thead>\n",
       "  <tbody>\n",
       "    <tr>\n",
       "      <th>0</th>\n",
       "      <td>6877</td>\n",
       "      <td>Colon Cancer</td>\n",
       "      <td>C</td>\n",
       "      <td>2012-11-26 00:00:00.000000</td>\n",
       "      <td>2012-12-03 00:00:00.000000</td>\n",
       "      <td>7.0</td>\n",
       "    </tr>\n",
       "    <tr>\n",
       "      <th>1</th>\n",
       "      <td>6877</td>\n",
       "      <td>Breast Cancer</td>\n",
       "      <td>C</td>\n",
       "      <td>2012-12-09 00:00:00.000000</td>\n",
       "      <td>2012-12-03 00:00:00.000000</td>\n",
       "      <td>-6.0</td>\n",
       "    </tr>\n",
       "  </tbody>\n",
       "</table>\n",
       "</div>"
      ],
      "text/plain": [
       "   Patient_ID      Diagnosis Drug_Code    formatted_diagnosis_date  \\\n",
       "0        6877   Colon Cancer         C  2012-11-26 00:00:00.000000   \n",
       "1        6877  Breast Cancer         C  2012-12-09 00:00:00.000000   \n",
       "\n",
       "  min(formatted_treatment_date)  # of days before treatment  \n",
       "0    2012-12-03 00:00:00.000000                         7.0  \n",
       "1    2012-12-03 00:00:00.000000                        -6.0  "
      ]
     },
     "execution_count": 11,
     "metadata": {},
     "output_type": "execute_result"
    }
   ],
   "source": [
    "q6 = '''SELECT diagnosis.Patient_ID,diagnosis,drug_code, formatted_diagnosis_date,min(formatted_treatment_date),\n",
    "julianday(min(formatted_treatment_date))-julianday(formatted_diagnosis_date) AS \"# of days before treatment\"\n",
    "FROM diagnosis \n",
    "JOIN treatment ON treatment.Patient_ID = diagnosis.Patient_ID\n",
    "WHERE treatment.Patient_ID = 6877\n",
    "GROUP BY diagnosis.Patient_ID, Diagnosis_Date\n",
    " '''\n",
    "\n",
    "sqldf(q6, locals())"
   ]
  },
  {
   "cell_type": "code",
   "execution_count": 12,
   "metadata": {
    "collapsed": false
   },
   "outputs": [],
   "source": [
    "# Patient 6877 was treated initially for colon cancer and then diagnosed with breast cancer. Since he was prescribed \n",
    "# the same medication for both cancers, we have a negative number for the # of days before treatment. \n",
    "# Therefore, I will exclude it in my following average calculation."
   ]
  },
  {
   "cell_type": "code",
   "execution_count": 13,
   "metadata": {
    "collapsed": false
   },
   "outputs": [
    {
     "data": {
      "text/html": [
       "<div>\n",
       "<table border=\"1\" class=\"dataframe\">\n",
       "  <thead>\n",
       "    <tr style=\"text-align: right;\">\n",
       "      <th></th>\n",
       "      <th>Average # of days before treatment</th>\n",
       "    </tr>\n",
       "  </thead>\n",
       "  <tbody>\n",
       "    <tr>\n",
       "      <th>0</th>\n",
       "      <td>5.25</td>\n",
       "    </tr>\n",
       "  </tbody>\n",
       "</table>\n",
       "</div>"
      ],
      "text/plain": [
       "   Average # of days before treatment\n",
       "0                                5.25"
      ]
     },
     "execution_count": 13,
     "metadata": {},
     "output_type": "execute_result"
    }
   ],
   "source": [
    "q7 = ''' SELECT AVG(total) AS \"Average # of days before treatment\"\n",
    "FROM\n",
    "(\n",
    "    SELECT diagnosis.Patient_ID, formatted_diagnosis_date,min(formatted_treatment_date),\n",
    "    julianday(min(formatted_treatment_date))-julianday(formatted_diagnosis_date) AS total\n",
    "    FROM diagnosis \n",
    "    JOIN treatment ON treatment.Patient_ID = diagnosis.Patient_ID\n",
    "    WHERE diagnosis.Patient_ID <> 6877\n",
    "    GROUP BY diagnosis.Patient_ID, Diagnosis_Date\n",
    ")'''\n",
    "\n",
    "sqldf(q7, locals())"
   ]
  },
  {
   "cell_type": "code",
   "execution_count": 14,
   "metadata": {
    "collapsed": false
   },
   "outputs": [
    {
     "data": {
      "text/html": [
       "<div>\n",
       "<table border=\"1\" class=\"dataframe\">\n",
       "  <thead>\n",
       "    <tr style=\"text-align: right;\">\n",
       "      <th></th>\n",
       "      <th>Patient_ID</th>\n",
       "      <th>Diagnosis_Code</th>\n",
       "      <th>Diagnosis</th>\n",
       "      <th>min(formatted_treatment_date)</th>\n",
       "      <th>Drug_Code</th>\n",
       "    </tr>\n",
       "  </thead>\n",
       "  <tbody>\n",
       "    <tr>\n",
       "      <th>0</th>\n",
       "      <td>2038</td>\n",
       "      <td>174.9</td>\n",
       "      <td>Breast Cancer</td>\n",
       "      <td>2010-01-24 00:00:00.000000</td>\n",
       "      <td>A</td>\n",
       "    </tr>\n",
       "    <tr>\n",
       "      <th>1</th>\n",
       "      <td>2120</td>\n",
       "      <td>174.1</td>\n",
       "      <td>Breast Cancer</td>\n",
       "      <td>2010-01-24 00:00:00.000000</td>\n",
       "      <td>A</td>\n",
       "    </tr>\n",
       "    <tr>\n",
       "      <th>2</th>\n",
       "      <td>2175</td>\n",
       "      <td>174.7</td>\n",
       "      <td>Breast Cancer</td>\n",
       "      <td>2010-02-21 00:00:00.000000</td>\n",
       "      <td>A</td>\n",
       "    </tr>\n",
       "    <tr>\n",
       "      <th>3</th>\n",
       "      <td>2407</td>\n",
       "      <td>174.9</td>\n",
       "      <td>Breast Cancer</td>\n",
       "      <td>2010-06-19 00:00:00.000000</td>\n",
       "      <td>A</td>\n",
       "    </tr>\n",
       "    <tr>\n",
       "      <th>4</th>\n",
       "      <td>2425</td>\n",
       "      <td>174.9</td>\n",
       "      <td>Breast Cancer</td>\n",
       "      <td>2010-12-19 00:00:00.000000</td>\n",
       "      <td>A</td>\n",
       "    </tr>\n",
       "  </tbody>\n",
       "</table>\n",
       "</div>"
      ],
      "text/plain": [
       "   Patient_ID  Diagnosis_Code      Diagnosis min(formatted_treatment_date)  \\\n",
       "0        2038           174.9  Breast Cancer    2010-01-24 00:00:00.000000   \n",
       "1        2120           174.1  Breast Cancer    2010-01-24 00:00:00.000000   \n",
       "2        2175           174.7  Breast Cancer    2010-02-21 00:00:00.000000   \n",
       "3        2407           174.9  Breast Cancer    2010-06-19 00:00:00.000000   \n",
       "4        2425           174.9  Breast Cancer    2010-12-19 00:00:00.000000   \n",
       "\n",
       "  Drug_Code  \n",
       "0         A  \n",
       "1         A  \n",
       "2         A  \n",
       "3         A  \n",
       "4         A  "
      ]
     },
     "execution_count": 14,
     "metadata": {},
     "output_type": "execute_result"
    }
   ],
   "source": [
    "# Question 3: Which treatment plan [drug(s)] do you think would be indicated to be used as first line of treatment \n",
    "# for breast cancer?\n",
    "\n",
    "# Writing a query to see the first drug used in the treatment of breast cancer \n",
    "\n",
    "q8 = '''SELECT diagnosis.Patient_ID,Diagnosis_Code,Diagnosis,min(formatted_treatment_date),Drug_Code\n",
    "    FROM diagnosis \n",
    "    JOIN treatment ON treatment.Patient_ID = diagnosis.Patient_ID\n",
    "    WHERE Diagnosis = \"Breast Cancer\" \n",
    "    \n",
    "    GROUP BY diagnosis.Patient_ID'''\n",
    "\n",
    "sqldf(q8, locals()).head()"
   ]
  },
  {
   "cell_type": "code",
   "execution_count": 15,
   "metadata": {
    "collapsed": false
   },
   "outputs": [
    {
     "data": {
      "text/html": [
       "<div>\n",
       "<table border=\"1\" class=\"dataframe\">\n",
       "  <thead>\n",
       "    <tr style=\"text-align: right;\">\n",
       "      <th></th>\n",
       "      <th>COUNT(DISTINCT(Patient_ID))</th>\n",
       "    </tr>\n",
       "  </thead>\n",
       "  <tbody>\n",
       "    <tr>\n",
       "      <th>0</th>\n",
       "      <td>21</td>\n",
       "    </tr>\n",
       "  </tbody>\n",
       "</table>\n",
       "</div>"
      ],
      "text/plain": [
       "   COUNT(DISTINCT(Patient_ID))\n",
       "0                           21"
      ]
     },
     "execution_count": 15,
     "metadata": {},
     "output_type": "execute_result"
    }
   ],
   "source": [
    "#Counting the patients who are using drug A as first line therapy\n",
    "\n",
    "q9=  '''\n",
    "SELECT COUNT(DISTINCT(Patient_ID))\n",
    "FROM (\n",
    "    SELECT diagnosis.Patient_ID,Diagnosis_Code,min(formatted_treatment_date),Drug_Code\n",
    "    FROM diagnosis \n",
    "    JOIN treatment ON treatment.Patient_ID = diagnosis.Patient_ID\n",
    "    WHERE Diagnosis = \"Breast Cancer\"\n",
    "    \n",
    "    GROUP BY diagnosis.Patient_ID\n",
    ")\n",
    "WHERE Drug_Code = \"A\"\n",
    "'''\n",
    "sqldf(q9, locals())"
   ]
  },
  {
   "cell_type": "code",
   "execution_count": 16,
   "metadata": {
    "collapsed": false
   },
   "outputs": [
    {
     "data": {
      "text/html": [
       "<div>\n",
       "<table border=\"1\" class=\"dataframe\">\n",
       "  <thead>\n",
       "    <tr style=\"text-align: right;\">\n",
       "      <th></th>\n",
       "      <th>% of Breast Cancer Patients using Drug A as First-Line Therapy</th>\n",
       "    </tr>\n",
       "  </thead>\n",
       "  <tbody>\n",
       "    <tr>\n",
       "      <th>0</th>\n",
       "      <td>70.0</td>\n",
       "    </tr>\n",
       "  </tbody>\n",
       "</table>\n",
       "</div>"
      ],
      "text/plain": [
       "   % of Breast Cancer Patients using Drug A as First-Line Therapy\n",
       "0                                               70.0             "
      ]
     },
     "execution_count": 16,
     "metadata": {},
     "output_type": "execute_result"
    }
   ],
   "source": [
    "# Using query from question 1 to calculate the percentage of breast cancer patients using drug A as first line of \n",
    "# treatment\n",
    "\n",
    "q10=  '''\n",
    "SELECT \n",
    "\n",
    "(CAST(( SELECT COUNT(DISTINCT(Patient_ID))\n",
    "    FROM (\n",
    "        SELECT diagnosis.Patient_ID,Diagnosis_Code,min(formatted_treatment_date),Drug_Code\n",
    "        FROM diagnosis \n",
    "        JOIN treatment ON treatment.Patient_ID = diagnosis.Patient_ID\n",
    "        WHERE Diagnosis = \"Breast Cancer\"\n",
    "    \n",
    "        GROUP BY diagnosis.Patient_ID)\n",
    "    \n",
    "    WHERE Drug_Code = \"A\") AS FLOAT)\n",
    "    / \n",
    "      CAST ( (SELECT Count(distinct(Patient_ID)) \n",
    "        FROM diagnosis \n",
    "        WHERE Diagnosis = \"Breast Cancer\") AS FLOAT)) *100\n",
    "        \n",
    "        AS \"% of Breast Cancer Patients using Drug A as First-Line Therapy\"\n",
    "    \n",
    "'''\n",
    "sqldf(q10, locals())"
   ]
  },
  {
   "cell_type": "code",
   "execution_count": 17,
   "metadata": {
    "collapsed": false
   },
   "outputs": [
    {
     "data": {
      "text/html": [
       "<div>\n",
       "<table border=\"1\" class=\"dataframe\">\n",
       "  <thead>\n",
       "    <tr style=\"text-align: right;\">\n",
       "      <th></th>\n",
       "      <th>Average Utilization of Drug A (in days)</th>\n",
       "    </tr>\n",
       "  </thead>\n",
       "  <tbody>\n",
       "    <tr>\n",
       "      <th>0</th>\n",
       "      <td>61.0</td>\n",
       "    </tr>\n",
       "  </tbody>\n",
       "</table>\n",
       "</div>"
      ],
      "text/plain": [
       "   Average Utilization of Drug A (in days)\n",
       "0                                     61.0"
      ]
     },
     "execution_count": 17,
     "metadata": {},
     "output_type": "execute_result"
    }
   ],
   "source": [
    "# Question 4: How do these drugs compare in terms of duration of therapy?\n",
    "\n",
    "# For each (patient_id,drug code) pair, I will calculate the difference between the earliest and  the latest date of \n",
    "# treatment and then average it based on the drug code.\n",
    "\n",
    "q11 = '''SELECT AVG(Utilization) AS \"Average Utilization of Drug A (in days)\"\n",
    "\n",
    "FROM (\n",
    "    SELECT treatment.Patient_ID, Drug_Code,min(formatted_treatment_date),max(formatted_treatment_date),\n",
    "    (julianday(max(formatted_treatment_date))-julianday(min(formatted_treatment_date)))AS Utilization \n",
    "    FROM treatment\n",
    "    WHERE Drug_Code=\"A\"\n",
    "    GROUP BY Patient_ID, Drug_Code)\n",
    "    '''\n",
    "\n",
    "sqldf(q11, locals())"
   ]
  },
  {
   "cell_type": "code",
   "execution_count": 18,
   "metadata": {
    "collapsed": false
   },
   "outputs": [
    {
     "data": {
      "text/html": [
       "<div>\n",
       "<table border=\"1\" class=\"dataframe\">\n",
       "  <thead>\n",
       "    <tr style=\"text-align: right;\">\n",
       "      <th></th>\n",
       "      <th>Average Utilization of Drug B (in days)</th>\n",
       "    </tr>\n",
       "  </thead>\n",
       "  <tbody>\n",
       "    <tr>\n",
       "      <th>0</th>\n",
       "      <td>59.526316</td>\n",
       "    </tr>\n",
       "  </tbody>\n",
       "</table>\n",
       "</div>"
      ],
      "text/plain": [
       "   Average Utilization of Drug B (in days)\n",
       "0                                59.526316"
      ]
     },
     "execution_count": 18,
     "metadata": {},
     "output_type": "execute_result"
    }
   ],
   "source": [
    "q12 = '''SELECT AVG(Utilization) AS \"Average Utilization of Drug B (in days)\"\n",
    "\n",
    "FROM (\n",
    "    SELECT treatment.Patient_ID, Drug_Code,min(formatted_treatment_date),max(formatted_treatment_date),\n",
    "    (julianday(max(formatted_treatment_date))-julianday(min(formatted_treatment_date)))AS Utilization \n",
    "    FROM treatment\n",
    "    WHERE Drug_Code=\"B\"\n",
    "    GROUP BY Patient_ID, Drug_Code)\n",
    "    '''\n",
    "\n",
    "sqldf(q12, locals())"
   ]
  },
  {
   "cell_type": "code",
   "execution_count": 19,
   "metadata": {
    "collapsed": false
   },
   "outputs": [
    {
     "data": {
      "text/html": [
       "<div>\n",
       "<table border=\"1\" class=\"dataframe\">\n",
       "  <thead>\n",
       "    <tr style=\"text-align: right;\">\n",
       "      <th></th>\n",
       "      <th>Average Utilization of Drug C (in days)</th>\n",
       "    </tr>\n",
       "  </thead>\n",
       "  <tbody>\n",
       "    <tr>\n",
       "      <th>0</th>\n",
       "      <td>106.6</td>\n",
       "    </tr>\n",
       "  </tbody>\n",
       "</table>\n",
       "</div>"
      ],
      "text/plain": [
       "   Average Utilization of Drug C (in days)\n",
       "0                                    106.6"
      ]
     },
     "execution_count": 19,
     "metadata": {},
     "output_type": "execute_result"
    }
   ],
   "source": [
    "q13 = '''SELECT AVG(Utilization) AS \"Average Utilization of Drug C (in days)\"\n",
    "\n",
    "FROM (\n",
    "    SELECT treatment.Patient_ID, Drug_Code,min(formatted_treatment_date),max(formatted_treatment_date),\n",
    "    (julianday(max(formatted_treatment_date))-julianday(min(formatted_treatment_date)))AS Utilization \n",
    "    FROM treatment\n",
    "    WHERE Drug_Code=\"C\"\n",
    "    GROUP BY Patient_ID, Drug_Code)\n",
    "    '''\n",
    "\n",
    "sqldf(q13, locals())"
   ]
  },
  {
   "cell_type": "code",
   "execution_count": 20,
   "metadata": {
    "collapsed": true
   },
   "outputs": [],
   "source": [
    "# Drug C has a higher duration compared to A and B (~60 days), most likely because it is an immunotherapy drug."
   ]
  }
 ],
 "metadata": {
  "kernelspec": {
   "display_name": "Python 3",
   "language": "python",
   "name": "python3"
  },
  "language_info": {
   "codemirror_mode": {
    "name": "ipython",
    "version": 3
   },
   "file_extension": ".py",
   "mimetype": "text/x-python",
   "name": "python",
   "nbconvert_exporter": "python",
   "pygments_lexer": "ipython3",
   "version": "3.6.0"
  }
 },
 "nbformat": 4,
 "nbformat_minor": 2
}
